{
  "nbformat": 4,
  "nbformat_minor": 0,
  "metadata": {
    "colab": {
      "provenance": [],
      "authorship_tag": "ABX9TyMOfZBmuk03QkBotov4bVM5",
      "include_colab_link": true
    },
    "kernelspec": {
      "name": "python3",
      "display_name": "Python 3"
    },
    "language_info": {
      "name": "python"
    }
  },
  "cells": [
    {
      "cell_type": "markdown",
      "metadata": {
        "id": "view-in-github",
        "colab_type": "text"
      },
      "source": [
        "<a href=\"https://colab.research.google.com/github/Ranitpal-003-07/Coding-Rangers_KOC30_CipherSchools/blob/main/Untitled0.ipynb\" target=\"_parent\"><img src=\"https://colab.research.google.com/assets/colab-badge.svg\" alt=\"Open In Colab\"/></a>"
      ]
    },
    {
      "cell_type": "code",
      "execution_count": 1,
      "metadata": {
        "colab": {
          "base_uri": "https://localhost:8080/"
        },
        "id": "RkbfttBAidEp",
        "outputId": "e4358a31-d724-4766-a59e-04fce46ab389"
      },
      "outputs": [
        {
          "output_type": "stream",
          "name": "stdout",
          "text": [
            "Enter Your Email: ranitpal699@gmail.com \n",
            "Your username is: RANITPAL699\n",
            "domain is: GMAIL.COM\n"
          ]
        }
      ],
      "source": [
        "email = input(\"Enter Your Email: \").strip()\n",
        "# [input(\"Ener your Email: \").strip()] is used for to remove unnecessary spaces in the string/email\n",
        "username = email[:email.index('@')]\n",
        "#[:email.index('@')] is used to take the characters/letters from 1st to before '@' \n",
        "domain = email[email.index('@') + 1:]\n",
        "#[email.index('@') + 1:] is used to take the characters/letters till the last one from thr leter whuch is after '@'\n",
        "domain_2= domain.upper()\n",
        "# [domain_2=domain.upper()] is used to capitalize all the letters in the string 'domain' and asign it to 'domain_2'\n",
        "username_2=username.upper()\n",
        "# [usernmae_2=username.upper()] is used to capitalize all the letters in the string 'username' and asign it to 'username_2'\n",
        "print(f\"Your username is: {username_2}\")\n",
        "# [f\"Your username is: {username_2}\"] is used to print Your username is: (value of username_2) \n",
        "print(f\"domain is: {domain_2}\")"
      ]
    }
  ]
}